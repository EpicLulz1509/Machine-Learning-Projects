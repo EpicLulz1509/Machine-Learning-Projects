{
 "cells": [
  {
   "cell_type": "markdown",
   "id": "6a42cd23-db89-4e1a-b5e2-221987733a95",
   "metadata": {},
   "source": [
    "## IMPORT LIBRARIES"
   ]
  },
  {
   "cell_type": "code",
   "execution_count": 1,
   "id": "3864c3bd-2849-44af-8781-559d223a0a8c",
   "metadata": {},
   "outputs": [],
   "source": [
    "import numpy as np\n",
    "import pandas as pd\n",
    "import re\n",
    "import nltk\n",
    "from nltk.corpus import stopwords\n",
    "from nltk.stem.porter import PorterStemmer\n",
    "from sklearn.feature_extraction.text import TfidfVectorizer\n",
    "from sklearn.model_selection import train_test_split\n",
    "from sklearn.metrics import accuracy_score\n",
    "from sklearn.linear_model import LogisticRegression"
   ]
  },
  {
   "cell_type": "code",
   "execution_count": 2,
   "id": "7d9c94a3-9b39-487c-9111-d06a2a3ab170",
   "metadata": {},
   "outputs": [],
   "source": [
    "# import nltk\n",
    "# nltk.download('stopwords')"
   ]
  },
  {
   "cell_type": "code",
   "execution_count": 3,
   "id": "b159287c-d981-4316-8de8-d2afbfb9bfff",
   "metadata": {},
   "outputs": [],
   "source": [
    "with open('english') as f:\n",
    "    stopwords = f.read()\n",
    "#print(contents)"
   ]
  },
  {
   "cell_type": "markdown",
   "id": "29cf3c8c-2976-4acc-9e6c-1fc922265ddf",
   "metadata": {},
   "source": [
    "## DATA PREPROCESSING"
   ]
  },
  {
   "cell_type": "code",
   "execution_count": 4,
   "id": "8588d3b0-e6d2-44ae-9920-8a3d5ae62886",
   "metadata": {},
   "outputs": [
    {
     "data": {
      "text/plain": [
       "(20800, 5)"
      ]
     },
     "execution_count": 4,
     "metadata": {},
     "output_type": "execute_result"
    }
   ],
   "source": [
    "data = pd.read_csv('data.csv')\n",
    "data.shape"
   ]
  },
  {
   "cell_type": "code",
   "execution_count": 5,
   "id": "612e2bd0-67be-4d8c-baae-00f8bdc1d565",
   "metadata": {},
   "outputs": [
    {
     "data": {
      "text/plain": [
       "<bound method NDFrame.head of           id                                              title  \\\n",
       "0          0  House Dem Aide: We Didn’t Even See Comey’s Let...   \n",
       "1          1  FLYNN: Hillary Clinton, Big Woman on Campus - ...   \n",
       "2          2                  Why the Truth Might Get You Fired   \n",
       "3          3  15 Civilians Killed In Single US Airstrike Hav...   \n",
       "4          4  Iranian woman jailed for fictional unpublished...   \n",
       "...      ...                                                ...   \n",
       "20795  20795  Rapper T.I.: Trump a ’Poster Child For White S...   \n",
       "20796  20796  N.F.L. Playoffs: Schedule, Matchups and Odds -...   \n",
       "20797  20797  Macy’s Is Said to Receive Takeover Approach by...   \n",
       "20798  20798  NATO, Russia To Hold Parallel Exercises In Bal...   \n",
       "20799  20799                          What Keeps the F-35 Alive   \n",
       "\n",
       "                                          author  \\\n",
       "0                                  Darrell Lucus   \n",
       "1                                Daniel J. Flynn   \n",
       "2                             Consortiumnews.com   \n",
       "3                                Jessica Purkiss   \n",
       "4                                 Howard Portnoy   \n",
       "...                                          ...   \n",
       "20795                              Jerome Hudson   \n",
       "20796                           Benjamin Hoffman   \n",
       "20797  Michael J. de la Merced and Rachel Abrams   \n",
       "20798                                Alex Ansary   \n",
       "20799                              David Swanson   \n",
       "\n",
       "                                                    text  label  \n",
       "0      House Dem Aide: We Didn’t Even See Comey’s Let...      1  \n",
       "1      Ever get the feeling your life circles the rou...      0  \n",
       "2      Why the Truth Might Get You Fired October 29, ...      1  \n",
       "3      Videos 15 Civilians Killed In Single US Airstr...      1  \n",
       "4      Print \\nAn Iranian woman has been sentenced to...      1  \n",
       "...                                                  ...    ...  \n",
       "20795  Rapper T. I. unloaded on black celebrities who...      0  \n",
       "20796  When the Green Bay Packers lost to the Washing...      0  \n",
       "20797  The Macy’s of today grew from the union of sev...      0  \n",
       "20798  NATO, Russia To Hold Parallel Exercises In Bal...      1  \n",
       "20799    David Swanson is an author, activist, journa...      1  \n",
       "\n",
       "[20800 rows x 5 columns]>"
      ]
     },
     "execution_count": 5,
     "metadata": {},
     "output_type": "execute_result"
    }
   ],
   "source": [
    "data.head"
   ]
  },
  {
   "cell_type": "code",
   "execution_count": 6,
   "id": "d49f09ce-1aa4-421f-b089-7629cbca7684",
   "metadata": {},
   "outputs": [
    {
     "data": {
      "text/plain": [
       "id           0\n",
       "title      558\n",
       "author    1957\n",
       "text        39\n",
       "label        0\n",
       "dtype: int64"
      ]
     },
     "execution_count": 6,
     "metadata": {},
     "output_type": "execute_result"
    }
   ],
   "source": [
    "#checking for missing values in data set\n",
    "data.isnull().sum()"
   ]
  },
  {
   "cell_type": "code",
   "execution_count": 7,
   "id": "97c39c14-63e0-4793-942d-5cf47ae0962e",
   "metadata": {},
   "outputs": [],
   "source": [
    "#replacing null values with empty string\n",
    "data = data.fillna(\"\")"
   ]
  },
  {
   "cell_type": "code",
   "execution_count": 8,
   "id": "ff1cb634-989b-4b91-8978-2efb31694a64",
   "metadata": {},
   "outputs": [
    {
     "data": {
      "text/plain": [
       "id        0\n",
       "title     0\n",
       "author    0\n",
       "text      0\n",
       "label     0\n",
       "dtype: int64"
      ]
     },
     "execution_count": 8,
     "metadata": {},
     "output_type": "execute_result"
    }
   ],
   "source": [
    "data.isnull().sum()"
   ]
  },
  {
   "cell_type": "code",
   "execution_count": 9,
   "id": "6cea3ad8-6cda-4e0a-9c2f-426fda098704",
   "metadata": {},
   "outputs": [
    {
     "data": {
      "text/html": [
       "<div>\n",
       "<style scoped>\n",
       "    .dataframe tbody tr th:only-of-type {\n",
       "        vertical-align: middle;\n",
       "    }\n",
       "\n",
       "    .dataframe tbody tr th {\n",
       "        vertical-align: top;\n",
       "    }\n",
       "\n",
       "    .dataframe thead th {\n",
       "        text-align: right;\n",
       "    }\n",
       "</style>\n",
       "<table border=\"1\" class=\"dataframe\">\n",
       "  <thead>\n",
       "    <tr style=\"text-align: right;\">\n",
       "      <th></th>\n",
       "      <th>id</th>\n",
       "      <th>title</th>\n",
       "      <th>author</th>\n",
       "      <th>text</th>\n",
       "      <th>label</th>\n",
       "      <th>content</th>\n",
       "    </tr>\n",
       "  </thead>\n",
       "  <tbody>\n",
       "    <tr>\n",
       "      <th>0</th>\n",
       "      <td>0</td>\n",
       "      <td>House Dem Aide: We Didn’t Even See Comey’s Let...</td>\n",
       "      <td>Darrell Lucus</td>\n",
       "      <td>House Dem Aide: We Didn’t Even See Comey’s Let...</td>\n",
       "      <td>1</td>\n",
       "      <td>Darrell Lucus House Dem Aide: We Didn’t Even S...</td>\n",
       "    </tr>\n",
       "    <tr>\n",
       "      <th>1</th>\n",
       "      <td>1</td>\n",
       "      <td>FLYNN: Hillary Clinton, Big Woman on Campus - ...</td>\n",
       "      <td>Daniel J. Flynn</td>\n",
       "      <td>Ever get the feeling your life circles the rou...</td>\n",
       "      <td>0</td>\n",
       "      <td>Daniel J. Flynn FLYNN: Hillary Clinton, Big Wo...</td>\n",
       "    </tr>\n",
       "    <tr>\n",
       "      <th>2</th>\n",
       "      <td>2</td>\n",
       "      <td>Why the Truth Might Get You Fired</td>\n",
       "      <td>Consortiumnews.com</td>\n",
       "      <td>Why the Truth Might Get You Fired October 29, ...</td>\n",
       "      <td>1</td>\n",
       "      <td>Consortiumnews.com Why the Truth Might Get You...</td>\n",
       "    </tr>\n",
       "    <tr>\n",
       "      <th>3</th>\n",
       "      <td>3</td>\n",
       "      <td>15 Civilians Killed In Single US Airstrike Hav...</td>\n",
       "      <td>Jessica Purkiss</td>\n",
       "      <td>Videos 15 Civilians Killed In Single US Airstr...</td>\n",
       "      <td>1</td>\n",
       "      <td>Jessica Purkiss 15 Civilians Killed In Single ...</td>\n",
       "    </tr>\n",
       "    <tr>\n",
       "      <th>4</th>\n",
       "      <td>4</td>\n",
       "      <td>Iranian woman jailed for fictional unpublished...</td>\n",
       "      <td>Howard Portnoy</td>\n",
       "      <td>Print \\nAn Iranian woman has been sentenced to...</td>\n",
       "      <td>1</td>\n",
       "      <td>Howard Portnoy Iranian woman jailed for fictio...</td>\n",
       "    </tr>\n",
       "  </tbody>\n",
       "</table>\n",
       "</div>"
      ],
      "text/plain": [
       "   id                                              title              author  \\\n",
       "0   0  House Dem Aide: We Didn’t Even See Comey’s Let...       Darrell Lucus   \n",
       "1   1  FLYNN: Hillary Clinton, Big Woman on Campus - ...     Daniel J. Flynn   \n",
       "2   2                  Why the Truth Might Get You Fired  Consortiumnews.com   \n",
       "3   3  15 Civilians Killed In Single US Airstrike Hav...     Jessica Purkiss   \n",
       "4   4  Iranian woman jailed for fictional unpublished...      Howard Portnoy   \n",
       "\n",
       "                                                text  label  \\\n",
       "0  House Dem Aide: We Didn’t Even See Comey’s Let...      1   \n",
       "1  Ever get the feeling your life circles the rou...      0   \n",
       "2  Why the Truth Might Get You Fired October 29, ...      1   \n",
       "3  Videos 15 Civilians Killed In Single US Airstr...      1   \n",
       "4  Print \\nAn Iranian woman has been sentenced to...      1   \n",
       "\n",
       "                                             content  \n",
       "0  Darrell Lucus House Dem Aide: We Didn’t Even S...  \n",
       "1  Daniel J. Flynn FLYNN: Hillary Clinton, Big Wo...  \n",
       "2  Consortiumnews.com Why the Truth Might Get You...  \n",
       "3  Jessica Purkiss 15 Civilians Killed In Single ...  \n",
       "4  Howard Portnoy Iranian woman jailed for fictio...  "
      ]
     },
     "execution_count": 9,
     "metadata": {},
     "output_type": "execute_result"
    }
   ],
   "source": [
    "#merging author and title columns - which are mainly going to be used here because text column can take too much time\n",
    "data['content'] = data['author'] + ' ' + data['title']\n",
    "data.head()"
   ]
  },
  {
   "cell_type": "code",
   "execution_count": 10,
   "id": "8c59094d-7005-4f12-aa6b-2941ccfead0c",
   "metadata": {},
   "outputs": [],
   "source": [
    "#stemming procedure\n",
    "port_stem = PorterStemmer()"
   ]
  },
  {
   "cell_type": "code",
   "execution_count": 11,
   "id": "e7a66205-c5bc-4ddc-8d45-fd8b246730da",
   "metadata": {},
   "outputs": [],
   "source": [
    "def stemming(content):\n",
    "    stemmed_content = re.sub('[^a-zA-Z]', ' ', content)      #means all characters except a-zA-Z get converted to ' '\n",
    "    stemmed_content = stemmed_content.lower()       #converting all words to lower case\n",
    "    stemmed_content = stemmed_content.split()\n",
    "    stemmed_content = [port_stem.stem(word) for word in stemmed_content if not word in stopwords]\n",
    "    stemmed_content = ' '.join(stemmed_content)\n",
    "    return stemmed_content\n",
    "\n",
    "data['content'] = data['content'].apply(stemming)"
   ]
  },
  {
   "cell_type": "code",
   "execution_count": 12,
   "id": "c30e62b0-dcbb-41c6-9495-64baeee92ca5",
   "metadata": {},
   "outputs": [
    {
     "name": "stdout",
     "output_type": "stream",
     "text": [
      "0        darrel lucu hous dem aid even see comey letter...\n",
      "1        daniel flynn flynn hillari clinton big woman c...\n",
      "2                         consortiumnew com truth get fire\n",
      "3        jessica purkiss civilian kill singl airstrik i...\n",
      "4        howard portnoy iranian woman jail fiction unpu...\n",
      "                               ...                        \n",
      "20795    jerom hudson rapper trump poster child white s...\n",
      "20796    benjamin hoffman playoff schedul matchup odd n...\n",
      "20797    michael la merc rachel abram maci said receiv ...\n",
      "20798    alex ansari nato russia hold parallel exercis ...\n",
      "20799                              david swanson keep aliv\n",
      "Name: content, Length: 20800, dtype: object\n"
     ]
    }
   ],
   "source": [
    "print(data['content'])"
   ]
  },
  {
   "cell_type": "code",
   "execution_count": 15,
   "id": "c82742c1-1432-4311-9129-e7722a6df02b",
   "metadata": {},
   "outputs": [],
   "source": [
    "X = data['content'].values\n",
    "Y = data['label'].values"
   ]
  },
  {
   "cell_type": "code",
   "execution_count": 16,
   "id": "f4ba8d12-58df-4d16-9fee-531c866ce39d",
   "metadata": {},
   "outputs": [
    {
     "name": "stdout",
     "output_type": "stream",
     "text": [
      "['darrel lucu hous dem aid even see comey letter jason chaffetz tweet'\n",
      " 'daniel flynn flynn hillari clinton big woman campu breitbart'\n",
      " 'consortiumnew com truth get fire' ...\n",
      " 'michael la merc rachel abram maci said receiv takeov approach hudson bay new york time'\n",
      " 'alex ansari nato russia hold parallel exercis balkan'\n",
      " 'david swanson keep aliv']\n",
      "[1 0 1 ... 0 1 1]\n"
     ]
    }
   ],
   "source": [
    "print(X)\n",
    "print(Y)"
   ]
  },
  {
   "cell_type": "code",
   "execution_count": 18,
   "id": "432d310c-b707-4eab-992d-d01302fb3033",
   "metadata": {},
   "outputs": [],
   "source": [
    "# converting text to numeric data\n",
    "vectorizer = TfidfVectorizer()\n",
    "vectorizer.fit(X)\n",
    "X = vectorizer.transform(X)"
   ]
  },
  {
   "cell_type": "code",
   "execution_count": 19,
   "id": "4220dcc8-f60e-4b40-ac71-8313675b62e9",
   "metadata": {},
   "outputs": [
    {
     "name": "stdout",
     "output_type": "stream",
     "text": [
      "  (0, 15620)\t0.28485063562728646\n",
      "  (0, 13415)\t0.2565896679337957\n",
      "  (0, 8870)\t0.3635963806326075\n",
      "  (0, 8592)\t0.29212514087043684\n",
      "  (0, 7654)\t0.24785219520671603\n",
      "  (0, 6975)\t0.21874169089359144\n",
      "  (0, 4950)\t0.233316966909351\n",
      "  (0, 3780)\t0.2705332480845492\n",
      "  (0, 3588)\t0.3598939188262559\n",
      "  (0, 2949)\t0.2468450128533713\n",
      "  (0, 2473)\t0.3676519686797209\n",
      "  (0, 265)\t0.27010124977708766\n",
      "  (1, 16719)\t0.30071745655510157\n",
      "  (1, 6787)\t0.1904660198296849\n",
      "  (1, 5480)\t0.7143299355715573\n",
      "  (1, 3556)\t0.26373768806048464\n",
      "  (1, 2803)\t0.19094574062359204\n",
      "  (1, 2214)\t0.3827320386859759\n",
      "  (1, 1886)\t0.15521974226349364\n",
      "  (1, 1490)\t0.2939891562094648\n",
      "  (2, 15546)\t0.4776725279299421\n",
      "  (2, 5942)\t0.39950146866471914\n",
      "  (2, 5366)\t0.4445630238272181\n",
      "  (2, 3093)\t0.5300162274340806\n",
      "  (2, 2933)\t0.36561461827708214\n",
      "  :\t:\n",
      "  (20797, 14906)\t0.31881045786261725\n",
      "  (20797, 13065)\t0.25400168580178045\n",
      "  (20797, 12292)\t0.27894826579153137\n",
      "  (20797, 12086)\t0.2535207421929807\n",
      "  (20797, 10258)\t0.08224225353919856\n",
      "  (20797, 9548)\t0.17859580104012132\n",
      "  (20797, 9479)\t0.3022617650793016\n",
      "  (20797, 8949)\t0.36998284669411535\n",
      "  (20797, 8326)\t0.22839533757753105\n",
      "  (20797, 7011)\t0.22303872682045922\n",
      "  (20797, 1282)\t0.34314733292665234\n",
      "  (20797, 697)\t0.3139647088786745\n",
      "  (20797, 43)\t0.30398273563204037\n",
      "  (20798, 12989)\t0.22363267488270608\n",
      "  (20798, 11000)\t0.4460515589182236\n",
      "  (20798, 10131)\t0.3192496370187028\n",
      "  (20798, 6859)\t0.32496285694299426\n",
      "  (20798, 5009)\t0.4083701450239529\n",
      "  (20798, 1120)\t0.4460515589182236\n",
      "  (20798, 586)\t0.3112141524638974\n",
      "  (20798, 348)\t0.28446937819072576\n",
      "  (20799, 14791)\t0.5677577267055112\n",
      "  (20799, 7998)\t0.45983893273780013\n",
      "  (20799, 3611)\t0.37927626273066584\n",
      "  (20799, 375)\t0.5677577267055112\n"
     ]
    }
   ],
   "source": [
    "print(X)"
   ]
  },
  {
   "cell_type": "markdown",
   "id": "7b4469a0-b180-4401-91de-1ec82ac3399b",
   "metadata": {},
   "source": [
    "## TRAIN TEST SPLITTING"
   ]
  },
  {
   "cell_type": "code",
   "execution_count": 20,
   "id": "b8ab8c86-c6c2-496b-8e78-b898e458ba13",
   "metadata": {},
   "outputs": [],
   "source": [
    "X_train, X_test, Y_train, Y_test = train_test_split(X, Y, test_size = 0.2, stratify = Y, random_state = 3)"
   ]
  },
  {
   "cell_type": "code",
   "execution_count": 21,
   "id": "65221133-2c9a-4fa9-bce1-3d9feabaec91",
   "metadata": {},
   "outputs": [
    {
     "name": "stdout",
     "output_type": "stream",
     "text": [
      "  (0, 16914)\t0.10256296995915114\n",
      "  (0, 15517)\t0.12764568484574915\n",
      "  (0, 15230)\t0.10063404152895654\n",
      "  (0, 13461)\t0.35518281718870576\n",
      "  (0, 12745)\t0.2948495985141781\n",
      "  (0, 10258)\t0.09913941418122417\n",
      "  (0, 7853)\t0.2913256772777924\n",
      "  (0, 6948)\t0.40815208655777224\n",
      "  (0, 6815)\t0.31046126564903126\n",
      "  (0, 5377)\t0.25082264460757747\n",
      "  (0, 3610)\t0.2948495985141781\n",
      "  (0, 3024)\t0.34751482912107723\n",
      "  (0, 2179)\t0.23811459501057528\n",
      "  (0, 599)\t0.2549158451831766\n",
      "  (1, 15517)\t0.12611364574912598\n",
      "  (1, 13102)\t0.4086842649329544\n",
      "  (1, 11735)\t0.22086627151433924\n",
      "  (1, 9910)\t0.4148413495308748\n",
      "  (1, 8623)\t0.2955700320742081\n",
      "  (1, 7797)\t0.3165527798719387\n",
      "  (1, 3327)\t0.31501564949573907\n",
      "  (1, 2115)\t0.45390994983155714\n",
      "  (1, 595)\t0.3214978327928851\n",
      "  (2, 16740)\t0.2260327046097581\n",
      "  (2, 14352)\t0.23092988682630727\n",
      "  :\t:\n",
      "  (16637, 2803)\t0.2789863966962158\n",
      "  (16637, 1510)\t0.3848401482639084\n",
      "  (16637, 958)\t0.4169011622371809\n",
      "  (16638, 16914)\t0.12455308126697211\n",
      "  (16638, 15271)\t0.35276641874030573\n",
      "  (16638, 15230)\t0.12221057909859799\n",
      "  (16638, 14383)\t0.27306941400599716\n",
      "  (16638, 10258)\t0.12039549475012316\n",
      "  (16638, 9586)\t0.30771292176466686\n",
      "  (16638, 9366)\t0.39735196206331314\n",
      "  (16638, 8389)\t0.5023378025530224\n",
      "  (16638, 6572)\t0.3684003759888976\n",
      "  (16638, 2175)\t0.33971613033774095\n",
      "  (16639, 16914)\t0.09167387739451709\n",
      "  (16639, 16345)\t0.31190287604943817\n",
      "  (16639, 16146)\t0.26233625715843595\n",
      "  (16639, 15230)\t0.08994974295805441\n",
      "  (16639, 14756)\t0.39864649307546124\n",
      "  (16639, 10258)\t0.08861379993416303\n",
      "  (16639, 9605)\t0.3256788624562442\n",
      "  (16639, 8633)\t0.360423551609178\n",
      "  (16639, 7835)\t0.41064711103842205\n",
      "  (16639, 7543)\t0.23985209249172787\n",
      "  (16639, 3692)\t0.28499103499564643\n",
      "  (16639, 3691)\t0.32753316159920604\n",
      "[0 1 1 ... 1 0 0]\n"
     ]
    }
   ],
   "source": [
    "print(X_train)\n",
    "print(Y_train)"
   ]
  },
  {
   "cell_type": "markdown",
   "id": "ab57509a-041c-4456-9b7c-e6af6693414e",
   "metadata": {},
   "source": [
    "## MODEL TRAINING"
   ]
  },
  {
   "cell_type": "code",
   "execution_count": 24,
   "id": "a268bb88-0b31-4dae-b1a4-3994de3d1b58",
   "metadata": {},
   "outputs": [
    {
     "data": {
      "text/html": [
       "<style>#sk-container-id-1 {color: black;background-color: white;}#sk-container-id-1 pre{padding: 0;}#sk-container-id-1 div.sk-toggleable {background-color: white;}#sk-container-id-1 label.sk-toggleable__label {cursor: pointer;display: block;width: 100%;margin-bottom: 0;padding: 0.3em;box-sizing: border-box;text-align: center;}#sk-container-id-1 label.sk-toggleable__label-arrow:before {content: \"▸\";float: left;margin-right: 0.25em;color: #696969;}#sk-container-id-1 label.sk-toggleable__label-arrow:hover:before {color: black;}#sk-container-id-1 div.sk-estimator:hover label.sk-toggleable__label-arrow:before {color: black;}#sk-container-id-1 div.sk-toggleable__content {max-height: 0;max-width: 0;overflow: hidden;text-align: left;background-color: #f0f8ff;}#sk-container-id-1 div.sk-toggleable__content pre {margin: 0.2em;color: black;border-radius: 0.25em;background-color: #f0f8ff;}#sk-container-id-1 input.sk-toggleable__control:checked~div.sk-toggleable__content {max-height: 200px;max-width: 100%;overflow: auto;}#sk-container-id-1 input.sk-toggleable__control:checked~label.sk-toggleable__label-arrow:before {content: \"▾\";}#sk-container-id-1 div.sk-estimator input.sk-toggleable__control:checked~label.sk-toggleable__label {background-color: #d4ebff;}#sk-container-id-1 div.sk-label input.sk-toggleable__control:checked~label.sk-toggleable__label {background-color: #d4ebff;}#sk-container-id-1 input.sk-hidden--visually {border: 0;clip: rect(1px 1px 1px 1px);clip: rect(1px, 1px, 1px, 1px);height: 1px;margin: -1px;overflow: hidden;padding: 0;position: absolute;width: 1px;}#sk-container-id-1 div.sk-estimator {font-family: monospace;background-color: #f0f8ff;border: 1px dotted black;border-radius: 0.25em;box-sizing: border-box;margin-bottom: 0.5em;}#sk-container-id-1 div.sk-estimator:hover {background-color: #d4ebff;}#sk-container-id-1 div.sk-parallel-item::after {content: \"\";width: 100%;border-bottom: 1px solid gray;flex-grow: 1;}#sk-container-id-1 div.sk-label:hover label.sk-toggleable__label {background-color: #d4ebff;}#sk-container-id-1 div.sk-serial::before {content: \"\";position: absolute;border-left: 1px solid gray;box-sizing: border-box;top: 0;bottom: 0;left: 50%;z-index: 0;}#sk-container-id-1 div.sk-serial {display: flex;flex-direction: column;align-items: center;background-color: white;padding-right: 0.2em;padding-left: 0.2em;position: relative;}#sk-container-id-1 div.sk-item {position: relative;z-index: 1;}#sk-container-id-1 div.sk-parallel {display: flex;align-items: stretch;justify-content: center;background-color: white;position: relative;}#sk-container-id-1 div.sk-item::before, #sk-container-id-1 div.sk-parallel-item::before {content: \"\";position: absolute;border-left: 1px solid gray;box-sizing: border-box;top: 0;bottom: 0;left: 50%;z-index: -1;}#sk-container-id-1 div.sk-parallel-item {display: flex;flex-direction: column;z-index: 1;position: relative;background-color: white;}#sk-container-id-1 div.sk-parallel-item:first-child::after {align-self: flex-end;width: 50%;}#sk-container-id-1 div.sk-parallel-item:last-child::after {align-self: flex-start;width: 50%;}#sk-container-id-1 div.sk-parallel-item:only-child::after {width: 0;}#sk-container-id-1 div.sk-dashed-wrapped {border: 1px dashed gray;margin: 0 0.4em 0.5em 0.4em;box-sizing: border-box;padding-bottom: 0.4em;background-color: white;}#sk-container-id-1 div.sk-label label {font-family: monospace;font-weight: bold;display: inline-block;line-height: 1.2em;}#sk-container-id-1 div.sk-label-container {text-align: center;}#sk-container-id-1 div.sk-container {/* jupyter's `normalize.less` sets `[hidden] { display: none; }` but bootstrap.min.css set `[hidden] { display: none !important; }` so we also need the `!important` here to be able to override the default hidden behavior on the sphinx rendered scikit-learn.org. See: https://github.com/scikit-learn/scikit-learn/issues/21755 */display: inline-block !important;position: relative;}#sk-container-id-1 div.sk-text-repr-fallback {display: none;}</style><div id=\"sk-container-id-1\" class=\"sk-top-container\"><div class=\"sk-text-repr-fallback\"><pre>LogisticRegression()</pre><b>In a Jupyter environment, please rerun this cell to show the HTML representation or trust the notebook. <br />On GitHub, the HTML representation is unable to render, please try loading this page with nbviewer.org.</b></div><div class=\"sk-container\" hidden><div class=\"sk-item\"><div class=\"sk-estimator sk-toggleable\"><input class=\"sk-toggleable__control sk-hidden--visually\" id=\"sk-estimator-id-1\" type=\"checkbox\" checked><label for=\"sk-estimator-id-1\" class=\"sk-toggleable__label sk-toggleable__label-arrow\">LogisticRegression</label><div class=\"sk-toggleable__content\"><pre>LogisticRegression()</pre></div></div></div></div></div>"
      ],
      "text/plain": [
       "LogisticRegression()"
      ]
     },
     "execution_count": 24,
     "metadata": {},
     "output_type": "execute_result"
    }
   ],
   "source": [
    "model = LogisticRegression()\n",
    "model.fit(X_train, Y_train)"
   ]
  },
  {
   "cell_type": "markdown",
   "id": "4f8e69b7-18f2-4d16-8ccd-61ed83970af1",
   "metadata": {},
   "source": [
    "## MODEL EVALUATION"
   ]
  },
  {
   "cell_type": "code",
   "execution_count": 26,
   "id": "866e03e3-1d99-437d-b1d0-6f38bc907eb5",
   "metadata": {},
   "outputs": [
    {
     "name": "stdout",
     "output_type": "stream",
     "text": [
      "Accuracy on training data: 0.9859975961538462\n"
     ]
    }
   ],
   "source": [
    "#accuracy on training data\n",
    "prediction = model.predict(X_train)\n",
    "score = accuracy_score(prediction, Y_train)\n",
    "print(f\"Accuracy on training data: {score}\")"
   ]
  },
  {
   "cell_type": "code",
   "execution_count": 27,
   "id": "aecb2ab8-d375-474b-a7fb-1520c1e98e7b",
   "metadata": {},
   "outputs": [
    {
     "name": "stdout",
     "output_type": "stream",
     "text": [
      "Accuracy on training data: 0.9754807692307692\n"
     ]
    }
   ],
   "source": [
    "#accuracy on testing data\n",
    "prediction = model.predict(X_test)\n",
    "score = accuracy_score(prediction, Y_test)\n",
    "print(f\"Accuracy on training data: {score}\")"
   ]
  },
  {
   "cell_type": "markdown",
   "id": "2c2ffbe6-3ee1-4b6c-bc10-314ad4c0adbe",
   "metadata": {},
   "source": [
    "## PREDICTION SYSTEM"
   ]
  },
  {
   "cell_type": "code",
   "execution_count": 36,
   "id": "205f4468-a1bc-47f4-8e24-96e73edcee81",
   "metadata": {},
   "outputs": [
    {
     "name": "stdout",
     "output_type": "stream",
     "text": [
      "[0]\n",
      "Real News \n"
     ]
    }
   ],
   "source": [
    "input_data = X_test[1]\n",
    "\n",
    "prediction = model.predict(input_data)\n",
    "print(prediction)\n",
    "\n",
    "if(prediction[0] == [0]): print(\"Real News \") \n",
    "else: print(\"Fake News \")"
   ]
  },
  {
   "cell_type": "code",
   "execution_count": 37,
   "id": "584243e6-b491-49d2-8a87-7dbe26cd5aa3",
   "metadata": {},
   "outputs": [
    {
     "name": "stdout",
     "output_type": "stream",
     "text": [
      "0\n"
     ]
    }
   ],
   "source": [
    "print(Y_test[1])"
   ]
  },
  {
   "cell_type": "markdown",
   "id": "b3e230e6-5344-422a-9411-a425431ecc06",
   "metadata": {},
   "source": [
    "## SAVING THE MODEL"
   ]
  },
  {
   "cell_type": "code",
   "execution_count": null,
   "id": "933e6055-46a2-4f6c-bea7-d010cb7a6836",
   "metadata": {},
   "outputs": [],
   "source": [
    "from joblib import dump, load\n",
    "dump(classifier, 'model.joblib')"
   ]
  }
 ],
 "metadata": {
  "kernelspec": {
   "display_name": "Python 3 (ipykernel)",
   "language": "python",
   "name": "python3"
  },
  "language_info": {
   "codemirror_mode": {
    "name": "ipython",
    "version": 3
   },
   "file_extension": ".py",
   "mimetype": "text/x-python",
   "name": "python",
   "nbconvert_exporter": "python",
   "pygments_lexer": "ipython3",
   "version": "3.10.1"
  }
 },
 "nbformat": 4,
 "nbformat_minor": 5
}
